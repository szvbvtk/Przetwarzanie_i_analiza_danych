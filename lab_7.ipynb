{
 "cells": [
  {
   "cell_type": "code",
   "execution_count": 72,
   "metadata": {},
   "outputs": [],
   "source": [
    "import numpy as np\n",
    "import pandas as pd\n",
    "import matplotlib.pyplot as plt\n",
    "\n",
    "# parametry wheel-base i length"
   ]
  },
  {
   "attachments": {},
   "cell_type": "markdown",
   "metadata": {},
   "source": [
    "Zadanie 1"
   ]
  },
  {
   "cell_type": "code",
   "execution_count": 73,
   "metadata": {},
   "outputs": [],
   "source": [
    "# def distp(X, C, e=None):\n",
    "#     d_e = np.sqrt((X - C) * (X - C).T)\n",
    "#     # d_e = np.sqrt(np.sum((X - C) * (X - C).T))\n",
    "#     return d_e\n",
    "\n",
    "def distp(X, C, e=None):\n",
    "    d_e = np.sqrt(np.sum((X - C) ** 2, axis=1))\n",
    "    return d_e\n",
    "\n",
    "def dist(X, C):\n",
    "    return np.sqrt(np.add.outer(np.sum(X * X, axis=1), np.sum(C * C, axis=1)) - 2 * X.dot(C.T))"
   ]
  },
  {
   "cell_type": "code",
   "execution_count": 74,
   "metadata": {},
   "outputs": [],
   "source": [
    "def distm(X, C, V):\n",
    "    d_m = np.sqrt(np.sum(np.dot((X - C), V) * (X - C), axis=1))\n",
    "\n",
    "    return d_m"
   ]
  },
  {
   "cell_type": "code",
   "execution_count": 75,
   "metadata": {},
   "outputs": [],
   "source": [
    "# from scipy.spatial.distance import cdist \n",
    "\n",
    "# def ksrodki(X, k, dist_type=\"euclidean\"):\n",
    "#     n = X.shape[0]\n",
    "#     m = X.shape[1]\n",
    "#     K = k\n",
    "\n",
    "#     P = np.zeros((n, K))\n",
    "#     C = np.random.rand(K, m)\n",
    "\n",
    "#     # C = X[np.random.choice(n, k, replace=False), :] # być moze do usuniecia\n",
    "\n",
    "#     # d = np.empty((1, 1))\n",
    "#     # if dist_type == \"euclidean\":\n",
    "#     #     d = distp(X, C)\n",
    "#     # elif dist_type == \"mahalanobis\":\n",
    "#     #     V = np.cov(X)\n",
    "#     #     d = distm(X, C, V)\n",
    "\n",
    "#     _P = _C = np.empty((1, 1))\n",
    "\n",
    "#     while True:\n",
    "\n",
    "#         _P = P.copy()\n",
    "#         _C = C.copy()\n",
    "\n",
    "#         for i in range(n):\n",
    "#             for k in range(K):\n",
    "#                 d = distp(X[i, :], C[k, :])\n",
    "#                 P[i, k] = 1\n",
    "#                 for l in range(K):\n",
    "#                     if l != k and d >= distp(X[i, :], C[l, :]):\n",
    "#                         P[i, k] = 0\n",
    "\n",
    "#         # Ck = np.empty((k))\n",
    "#         for k in range(K):\n",
    "#             l = m = 0\n",
    "#             for i in range(n):\n",
    "#                 l += P[i, k] * X[i, :]\n",
    "#                 m += P[i, k]\n",
    "\n",
    "#             C[k, :] = l / m\n",
    "            \n",
    "#         print(P)\n",
    "#         if np.array_equal(P, _P):\n",
    "#             break\n",
    "#     # return C, CX\n",
    "#     return P, C\n",
    "\n",
    "\n",
    "# def ksrodki(X, k):\n",
    "#     m = X.shape[0]\n",
    "#     n = X.shape[1]\n",
    "#     K = k\n",
    "\n",
    "#     P = np.zeros((n, K))\n",
    "#     C = X[np.random.choice(k, n, replace=False), :]\n",
    "#     S = np.empty((m))\n",
    "\n",
    "#     _C = np.zeros(C.shape)\n",
    "\n",
    "#     while not np.array_equal(C, _C):\n",
    "#         _C = np.copy(C)\n",
    "#         for j in range(K):\n",
    "#             d = dist(X, C)\n",
    "#             s = np.argmin(d, axis=1)\n",
    "#             for x in range(X):\n",
    "#                 if s == j:\n",
    "#                     C[j, :] = np.mean()\n",
    "#             print(s.shape)\n",
    "#             print()\n",
    "\n",
    "\n",
    "    # return P, C\n",
    "# https://www.askpython.com/python/examples/k-means-clustering-from-scratch\n",
    "# from scipy.spatial.distance import cdist \n",
    "# def kmeans(x,k, no_of_iterations):\n",
    "#     idx = np.random.choice(len(x), k, replace=False)\n",
    "#     #Randomly choosing Centroids \n",
    "#     centroids = x[idx, :] #Step 1\n",
    "     \n",
    "#     #finding the distance between centroids and all the data points\n",
    "#     distances = cdist(x, centroids ,'euclidean') #Step 2\n",
    "#     #Centroid with the minimum Distance\n",
    "#     points = np.array([np.argmin(i) for i in distances]) #Step 3\n",
    "     \n",
    "#     #Repeating the above steps for a defined number of iterations\n",
    "#     #Step 4\n",
    "#     for _ in range(no_of_iterations): \n",
    "#         centroids = []\n",
    "#         for idx in range(k):\n",
    "#             #Updating Centroids by taking mean of Cluster it belongs to\n",
    "#             temp_cent = x[points==idx].mean(axis=0) \n",
    "#             centroids.append(temp_cent)\n",
    " \n",
    "#         centroids = np.vstack(centroids) #Updated Centroids \n",
    "         \n",
    "#         distances = cdist(x, centroids ,'euclidean')\n",
    "#         points = np.array([np.argmin(i) for i in distances])\n",
    "         \n",
    "#     return points "
   ]
  },
  {
   "cell_type": "code",
   "execution_count": 76,
   "metadata": {},
   "outputs": [],
   "source": [
    "import numpy as np\n",
    "\n",
    "def kmeans(X, k, max_iters=100):\n",
    "    \"\"\"\n",
    "    KMeans clustering algorithm using only NumPy library.\n",
    "\n",
    "    Parameters:\n",
    "    -----------\n",
    "    X: numpy array\n",
    "        Input data matrix of shape (n_samples, n_features).\n",
    "    k: int\n",
    "        Number of clusters.\n",
    "    max_iters: int (default=100)\n",
    "        Maximum number of iterations for convergence.\n",
    "\n",
    "    Returns:\n",
    "    --------\n",
    "    centroids: numpy array\n",
    "        Final centroid positions of shape (k, n_features).\n",
    "    labels: numpy array\n",
    "        Cluster labels for each data point of shape (n_samples,).\n",
    "    \"\"\"\n",
    "\n",
    "    # Initialize centroids randomly\n",
    "    rand_idx = np.random.choice(X.shape[0], size=k, replace=False)\n",
    "    centroids = X[rand_idx]\n",
    "\n",
    "    # Initialize labels\n",
    "    labels = np.zeros(X.shape[0])\n",
    "\n",
    "    for i in range(max_iters):\n",
    "\n",
    "        # Calculate distances between each point and each centroid\n",
    "        distances = np.sqrt(((X - centroids[:, np.newaxis])**2).sum(axis=2))\n",
    "\n",
    "        # Assign each point to the closest centroid\n",
    "        labels = np.argmin(distances, axis=0)\n",
    "\n",
    "        # Update centroid positions\n",
    "        for j in range(k):\n",
    "            if np.sum(labels == j) == 0:\n",
    "                # Empty cluster, reinitialize centroid to random point\n",
    "                centroids[j] = X[np.random.choice(X.shape[0])]\n",
    "            else:\n",
    "                centroids[j] = np.mean(X[labels == j], axis=0)\n",
    "\n",
    "    return centroids, labels\n"
   ]
  },
  {
   "cell_type": "code",
   "execution_count": 77,
   "metadata": {},
   "outputs": [],
   "source": [
    "def kmeans(X, k, distance_metric='euclidean'):\n",
    "\n",
    "    assert distance_metric in ['euclidean', 'mahalanobis'], \"Zły typ odległości\"\n",
    "    assert isinstance(k, int) and k >= 1, \"Podano złe k\"\n",
    "    assert isinstance(X, np.ndarray)\n",
    "    \n",
    "    n, m = X.shape\n",
    "    K = k\n",
    "\n",
    "\n",
    "    centroids = X[np.random.choice(a=n, size=K, replace=False)]\n",
    "    _centroids_old = np.empty_like(centroids)\n",
    "    labels = np.empty(n)\n",
    "\n",
    "\n",
    "    V = np.empty_like(X.T)\n",
    "    if distance_metric == 'mahalanobis':\n",
    "        V = np.cov(X.T)\n",
    "\n",
    "\n",
    "    distances = np.empty((K, n))\n",
    "    d = 1\n",
    "    while not np.array_equal(centroids, _centroids_old):\n",
    "        \n",
    "        _centroids_old = centroids.copy()\n",
    "\n",
    "        for j in range(K):\n",
    "            if distance_metric == 'euclidean':\n",
    "                distances[j] = distp(X, centroids[j, :])\n",
    "            elif distance_metric == 'mahalanobis':\n",
    "                distances[j] = distm(X, centroids[j, :], V)\n",
    "\n",
    "        labels = np.argmin(distances, axis=0)\n",
    "\n",
    "        for j in range(k):\n",
    "            if np.sum(labels == j) != 0:\n",
    "                centroids[j] = np.mean(X[labels == j], axis=0)\n",
    "            # else:\n",
    "            #     centroids[j] = X[np.random.choice(X.shape[0])]\n",
    "\n",
    "    return centroids, labels"
   ]
  },
  {
   "attachments": {},
   "cell_type": "markdown",
   "metadata": {},
   "source": [
    "Zadanie 2"
   ]
  },
  {
   "cell_type": "code",
   "execution_count": 78,
   "metadata": {},
   "outputs": [],
   "source": [
    "X = pd.read_csv(\"autos.csv\")[['wheel-base', 'length']].to_numpy()"
   ]
  },
  {
   "cell_type": "code",
   "execution_count": 79,
   "metadata": {},
   "outputs": [],
   "source": [
    "# from sklearn.cluster import KMeans\n",
    "# kmeans_model = KMeans(n_clusters = 5)\n",
    "# kmeans_model.fit(X)\n",
    "# plt.scatter(X[:, 0], X[:, 1], c=kmeans_model.labels_);\n",
    "# kmeans_model.labels_\n",
    "\n",
    "\n",
    "c, l = kmeans(X, 5, 'mahalanobis')"
   ]
  },
  {
   "attachments": {},
   "cell_type": "markdown",
   "metadata": {},
   "source": [
    "Zadanie 3"
   ]
  },
  {
   "cell_type": "code",
   "execution_count": 80,
   "metadata": {},
   "outputs": [
    {
     "data": {
      "image/png": "[encoded data removed]",
      "text/plain": [
       "<Figure size 640x480 with 1 Axes>"
      ]
     },
     "metadata": {},
     "output_type": "display_data"
    }
   ],
   "source": [
    "plt.scatter(X[:, 0], X[:, 1], c=l);"
   ]
  },
  {
   "cell_type": "code",
   "execution_count": 81,
   "metadata": {},
   "outputs": [],
   "source": [
    "# to do 4 chyba ale nw\n",
    "    # sse = np.zeros(k)\n",
    "    # for j in range(k):\n",
    "    #     sse[j] = np.sum((X[labels == j] - centroids[j])**2)\n",
    "\n",
    "    # # obliczenie łącznego SSE\n",
    "    # total_sse = np.sum(sse)"
   ]
  }
 ],
 "metadata": {
  "kernelspec": {
   "display_name": "Python 3",
   "language": "python",
   "name": "python3"
  },
  "language_info": {
   "codemirror_mode": {
    "name": "ipython",
    "version": 3
   },
   "file_extension": ".py",
   "mimetype": "text/x-python",
   "name": "python",
   "nbconvert_exporter": "python",
   "pygments_lexer": "ipython3",
   "version": "3.11.3"
  },
  "orig_nbformat": 4
 },
 "nbformat": 4,
 "nbformat_minor": 2
}
