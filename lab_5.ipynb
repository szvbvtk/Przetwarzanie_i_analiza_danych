{
 "cells": [
  {
   "cell_type": "code",
   "execution_count": 428,
   "metadata": {},
   "outputs": [],
   "source": [
    "import numpy as np\n",
    "import pandas as pd"
   ]
  },
  {
   "attachments": {},
   "cell_type": "markdown",
   "metadata": {},
   "source": [
    "Zadanie 1"
   ]
  },
  {
   "cell_type": "code",
   "execution_count": 429,
   "metadata": {},
   "outputs": [],
   "source": [
    "def freq(X, prob=True):\n",
    "    xi, ni = np.unique(X, return_counts=True)\n",
    "\n",
    "    if prob:\n",
    "        ni = ni / len(X)\n",
    "        # ni == pi\n",
    "    return xi, ni"
   ]
  },
  {
   "cell_type": "code",
   "execution_count": 430,
   "metadata": {},
   "outputs": [
    {
     "name": "stdout",
     "output_type": "stream",
     "text": [
      "[1 2] [0.25 0.75]\n"
     ]
    }
   ],
   "source": [
    "X = [1, 2,2,2]\n",
    "xi, pi = freq(X)\n",
    "print(xi, pi)"
   ]
  },
  {
   "attachments": {},
   "cell_type": "markdown",
   "metadata": {},
   "source": [
    "Zadanie 2"
   ]
  },
  {
   "cell_type": "code",
   "execution_count": 431,
   "metadata": {},
   "outputs": [],
   "source": [
    "def freq2(X, Y, prob=True):\n",
    "    xy = [(xi, yi) for xi, yi in zip(X, Y)]\n",
    "\n",
    "    xi = pd.DataFrame(xy).groupby([0, 1]).value_counts().keys().tolist()\n",
    "    ni = pd.DataFrame(xy).groupby([0, 1]).value_counts().tolist()\n",
    "\n",
    "    if prob:\n",
    "        ni = [(x / len(X)) for x in ni]\n",
    "        # ni == pi\n",
    "    return xi, ni"
   ]
  },
  {
   "cell_type": "code",
   "execution_count": 432,
   "metadata": {},
   "outputs": [
    {
     "name": "stdout",
     "output_type": "stream",
     "text": [
      "(10, 'a'): 0.4\n",
      "(10, 'd'): 0.2\n",
      "(20, 'b'): 0.2\n",
      "(20, 'c'): 0.2\n"
     ]
    }
   ],
   "source": [
    "X = [10, 20, 10, 20, 10]\n",
    "Y = ['a', 'b', 'a', 'c', 'd']\n",
    "\n",
    "xi, pi = freq2(X, Y, prob=True)\n",
    "\n",
    "for i in zip(xi, pi):\n",
    "    print(f\"{i[0]}: {i[1]}\")"
   ]
  }
 ],
 "metadata": {
  "kernelspec": {
   "display_name": "Python 3",
   "language": "python",
   "name": "python3"
  },
  "language_info": {
   "codemirror_mode": {
    "name": "ipython",
    "version": 3
   },
   "file_extension": ".py",
   "mimetype": "text/x-python",
   "name": "python",
   "nbconvert_exporter": "python",
   "pygments_lexer": "ipython3",
   "version": "3.11.2"
  },
  "orig_nbformat": 4
 },
 "nbformat": 4,
 "nbformat_minor": 2
}
