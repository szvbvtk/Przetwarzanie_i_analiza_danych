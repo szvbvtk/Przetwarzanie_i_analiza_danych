{
 "cells": [
  {
   "cell_type": "code",
   "execution_count": 270,
   "metadata": {},
   "outputs": [],
   "source": [
    "import numpy as np\n",
    "import pandas as pd"
   ]
  },
  {
   "attachments": {},
   "cell_type": "markdown",
   "metadata": {},
   "source": [
    "Zadanie 1"
   ]
  },
  {
   "cell_type": "code",
   "execution_count": 271,
   "metadata": {},
   "outputs": [],
   "source": [
    "def freq(X, prob=True):\n",
    "    xi, ni = np.unique(X, return_counts=True)\n",
    "\n",
    "    if prob:\n",
    "        ni = ni / len(X)\n",
    "        # ni == pi\n",
    "    return xi, ni"
   ]
  },
  {
   "cell_type": "code",
   "execution_count": 272,
   "metadata": {},
   "outputs": [
    {
     "name": "stdout",
     "output_type": "stream",
     "text": [
      "[1 2] [0.25 0.75]\n"
     ]
    }
   ],
   "source": [
    "X = [1, 2,2,2]\n",
    "xi, pi = freq(X)\n",
    "print(xi, pi)"
   ]
  },
  {
   "attachments": {},
   "cell_type": "markdown",
   "metadata": {},
   "source": [
    "Zadanie 2"
   ]
  },
  {
   "cell_type": "code",
   "execution_count": 273,
   "metadata": {},
   "outputs": [],
   "source": [
    "# def freq2(X, Y, prob=True):\n",
    "#     xy = [(xi, yi) for xi, yi in zip(X, Y)]\n",
    "\n",
    "#     xi = pd.DataFrame(xy).groupby([0, 1]).value_counts().keys().tolist()\n",
    "#     ni = pd.DataFrame(xy).groupby([0, 1]).value_counts().tolist()\n",
    "\n",
    "#     if prob:\n",
    "#         ni = [(x / len(X)) for x in ni]\n",
    "#         # ni == pi\n",
    "#     return xi, ni"
   ]
  },
  {
   "cell_type": "code",
   "execution_count": 274,
   "metadata": {},
   "outputs": [],
   "source": [
    "def freq2(X, Y, prob=True):\n",
    "    xy = [(xi, yi) for xi, yi in zip(X, Y)]\n",
    "\n",
    "    sr = pd.Series(xy).value_counts()\n",
    "    \n",
    "    if prob:\n",
    "        sr = sr / len(X)\n",
    "        # ni == pi\n",
    "\n",
    "    xi = list(sr.keys())\n",
    "    ni = sr.tolist()\n",
    "\n",
    "    return xi, ni"
   ]
  },
  {
   "cell_type": "code",
   "execution_count": 275,
   "metadata": {},
   "outputs": [
    {
     "name": "stdout",
     "output_type": "stream",
     "text": [
      "(20, 'b'): 3\n",
      "(10, 'a'): 2\n",
      "(20, 'c'): 1\n",
      "(10, 'd'): 1\n",
      "(30, 'b'): 1\n"
     ]
    }
   ],
   "source": [
    "X = [20, 10, 20, 10, 20, 10, 20, 30]\n",
    "Y = ['b', 'a', 'b', 'a', 'c', 'd', 'b', 'b']\n",
    "\n",
    "xi, ni = freq2(X, Y, prob=False)\n",
    "\n",
    "for i in zip(xi, ni):\n",
    "    print(f\"{i[0]}: {i[1]}\")"
   ]
  }
 ],
 "metadata": {
  "kernelspec": {
   "display_name": "Python 3",
   "language": "python",
   "name": "python3"
  },
  "language_info": {
   "codemirror_mode": {
    "name": "ipython",
    "version": 3
   },
   "file_extension": ".py",
   "mimetype": "text/x-python",
   "name": "python",
   "nbconvert_exporter": "python",
   "pygments_lexer": "ipython3",
   "version": "3.11.2"
  },
  "orig_nbformat": 4
 },
 "nbformat": 4,
 "nbformat_minor": 2
}
