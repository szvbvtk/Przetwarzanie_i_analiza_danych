{
 "cells": [
  {
   "cell_type": "code",
   "execution_count": null,
   "metadata": {},
   "outputs": [],
   "source": [
    "import numpy as np\n",
    "from sklearn import datasets"
   ]
  },
  {
   "attachments": {},
   "cell_type": "markdown",
   "metadata": {},
   "source": [
    "\n",
    "Zadanie 1"
   ]
  },
  {
   "cell_type": "code",
   "execution_count": null,
   "metadata": {},
   "outputs": [],
   "source": [
    "# https://towardsdatascience.com/create-your-own-k-nearest-neighbors-algorithm-in-python-eb7093fc6339\n",
    "class KNN:\n",
    "    def __init__(self, n_neighbors=1, use_KDTree=False):\n",
    "        self.n_neighbors = n_neighbors\n",
    "        self.use_KDTree = use_KDTree\n",
    "\n",
    "        self.X_train = np.empty(())\n",
    "        self.y_train = np.empty(())\n",
    "        self.neighbors = []\n",
    "        self.labels = []\n",
    "\n",
    "    @staticmethod\n",
    "    def euclidean(X_train, X):\n",
    "        return np.sqrt(np.sum((X_train - X)**2, axis=1))\n",
    "\n",
    "    def fit(self, X, y):\n",
    "        X_train = X\n",
    "        y_train = y \n",
    "\n",
    "\n",
    "    def predict(self, X):\n",
    "        for i, x in enumerate(X):\n",
    "            dist = KNN.euclidean(self.X_train, X)\n",
    "            self.neighbors.append([dist, i])\n",
    "\n",
    "        self.neighbors.sort(reverse=False)\n",
    "        self.neighbors = self.neighbors[0:self.n_neighbors]\n",
    "        self.labels = [self.y_train[i] for _, i in self.neighbors]\n",
    "\n",
    "        return self.labels\n",
    "\n",
    "    def score(self, X, y):\n",
    "        y_pred = self.predict(X)\n",
    "        accuracy = np.sum(y == y_pred) / len(y)\n",
    "        return accuracy"
   ]
  },
  {
   "cell_type": "code",
   "execution_count": null,
   "metadata": {},
   "outputs": [],
   "source": []
  }
 ],
 "metadata": {
  "kernelspec": {
   "display_name": "Python 3",
   "language": "python",
   "name": "python3"
  },
  "language_info": {
   "name": "python",
   "version": "3.11.3"
  },
  "orig_nbformat": 4
 },
 "nbformat": 4,
 "nbformat_minor": 2
}
